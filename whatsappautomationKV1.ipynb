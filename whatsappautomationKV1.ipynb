{
 "cells": [
  {
   "cell_type": "code",
   "execution_count": 36,
   "metadata": {},
   "outputs": [],
   "source": [
    "#MobileNumberList = [\"+919444360389\",\"+919566172782\",\"+919841559443\"]\n",
    "\n",
    "MobileNumberListExl08 = [\"+916385590591\",\"+917812862977\",\"+918667375488\",\"+918695383859\",\"+919047736313\",\"+919361936945\",\"+919600360822\",\"+919629235980\",\"+919677073848\",\"+919842043210\",\"+919843016094\",\"+919952884225\",\"+919994668705\"]\n",
    "message=\"Dear Sadhaka, Thanks for registering with 'PRAYAS - PRAkriti YogA Samhitha'. Will include you in the session starting Feb 14th 2022. Will send you a message few days before the session - Krishnan V, Yoga Teacher\""
   ]
  },
  {
   "cell_type": "code",
   "execution_count": 37,
   "metadata": {},
   "outputs": [],
   "source": [
    "#macos catalina 10.15.5 | Chrome Version 97.0.4692.71, IDLE for development. \n",
    "#MobileNumberListExl08 = [“xxx”,”xx”,”xxxx”]\n",
    "#message=“Hello”\n",
    "\n",
    "import pyautogui as pg\n",
    "import pywhatkit as kit\n",
    "import datetime as datetime\n",
    "from datetime import date, timedelta\n",
    "import time\n",
    "\n",
    "def sendwhatkvmsg(passedmobilenumber):\n",
    "    today = datetime.datetime.now()\n",
    "    thour=today.hour\n",
    "    ttminute=(today.minute)+1\n",
    "    waittime=15\n",
    "    Tabclosetime=20\n",
    "    kit.sendwhatmsg(passedmobilenumber, message,thour,ttminute,waittime,True,Tabclosetime)\n",
    "    pg.press(\"enter\")"
   ]
  },
  {
   "cell_type": "code",
   "execution_count": 38,
   "metadata": {},
   "outputs": [
    {
     "name": "stdout",
     "output_type": "stream",
     "text": [
      "In 0 Seconds WhatsApp will open and after 15 Seconds Message will be Delivered!\n",
      "In 24 Seconds WhatsApp will open and after 15 Seconds Message will be Delivered!\n",
      "In 25 Seconds WhatsApp will open and after 15 Seconds Message will be Delivered!\n",
      "In 24 Seconds WhatsApp will open and after 15 Seconds Message will be Delivered!\n",
      "In 24 Seconds WhatsApp will open and after 15 Seconds Message will be Delivered!\n",
      "In 24 Seconds WhatsApp will open and after 15 Seconds Message will be Delivered!\n"
     ]
    },
    {
     "ename": "KeyboardInterrupt",
     "evalue": "",
     "output_type": "error",
     "traceback": [
      "\u001b[0;31m---------------------------------------------------------------------------\u001b[0m",
      "\u001b[0;31mKeyboardInterrupt\u001b[0m                         Traceback (most recent call last)",
      "\u001b[0;32m<ipython-input-38-b661d6d887d7>\u001b[0m in \u001b[0;36m<module>\u001b[0;34m\u001b[0m\n\u001b[1;32m      1\u001b[0m \u001b[0;32mfor\u001b[0m \u001b[0mmobilenumber\u001b[0m \u001b[0;32min\u001b[0m \u001b[0mMobileNumberList\u001b[0m\u001b[0;34m:\u001b[0m\u001b[0;34m\u001b[0m\u001b[0;34m\u001b[0m\u001b[0m\n\u001b[0;32m----> 2\u001b[0;31m     \u001b[0msendwhatkvmsg\u001b[0m\u001b[0;34m(\u001b[0m\u001b[0mmobilenumber\u001b[0m\u001b[0;34m)\u001b[0m\u001b[0;34m\u001b[0m\u001b[0;34m\u001b[0m\u001b[0m\n\u001b[0m",
      "\u001b[0;32m<ipython-input-37-f363a2ce43ab>\u001b[0m in \u001b[0;36msendwhatkvmsg\u001b[0;34m(passedmobilenumber)\u001b[0m\n\u001b[1;32m      5\u001b[0m     \u001b[0mwaittime\u001b[0m\u001b[0;34m=\u001b[0m\u001b[0;36m15\u001b[0m\u001b[0;34m\u001b[0m\u001b[0;34m\u001b[0m\u001b[0m\n\u001b[1;32m      6\u001b[0m     \u001b[0mTabclosetime\u001b[0m\u001b[0;34m=\u001b[0m\u001b[0;36m20\u001b[0m \u001b[0;31m#20\u001b[0m\u001b[0;34m\u001b[0m\u001b[0;34m\u001b[0m\u001b[0m\n\u001b[0;32m----> 7\u001b[0;31m     \u001b[0mkit\u001b[0m\u001b[0;34m.\u001b[0m\u001b[0msendwhatmsg\u001b[0m\u001b[0;34m(\u001b[0m\u001b[0mpassedmobilenumber\u001b[0m\u001b[0;34m,\u001b[0m \u001b[0mmessage\u001b[0m\u001b[0;34m,\u001b[0m\u001b[0mthour\u001b[0m\u001b[0;34m,\u001b[0m\u001b[0mttminute\u001b[0m\u001b[0;34m,\u001b[0m\u001b[0mwaittime\u001b[0m\u001b[0;34m,\u001b[0m\u001b[0;32mTrue\u001b[0m\u001b[0;34m,\u001b[0m\u001b[0mTabclosetime\u001b[0m\u001b[0;34m)\u001b[0m\u001b[0;34m\u001b[0m\u001b[0;34m\u001b[0m\u001b[0m\n\u001b[0m\u001b[1;32m      8\u001b[0m     \u001b[0mpg\u001b[0m\u001b[0;34m.\u001b[0m\u001b[0mpress\u001b[0m\u001b[0;34m(\u001b[0m\u001b[0;34m\"enter\"\u001b[0m\u001b[0;34m)\u001b[0m\u001b[0;34m\u001b[0m\u001b[0;34m\u001b[0m\u001b[0m\n",
      "\u001b[0;32m/Library/Frameworks/Python.framework/Versions/3.8/lib/python3.8/site-packages/pywhatkit/whats.py\u001b[0m in \u001b[0;36msendwhatmsg\u001b[0;34m(phone_no, message, time_hour, time_min, wait_time, tab_close, close_time)\u001b[0m\n\u001b[1;32m     70\u001b[0m         \u001b[0;34mf\"In {sleep_time} Seconds WhatsApp will open and after {wait_time} Seconds Message will be Delivered!\"\u001b[0m\u001b[0;34m\u001b[0m\u001b[0;34m\u001b[0m\u001b[0m\n\u001b[1;32m     71\u001b[0m     )\n\u001b[0;32m---> 72\u001b[0;31m     \u001b[0mtime\u001b[0m\u001b[0;34m.\u001b[0m\u001b[0msleep\u001b[0m\u001b[0;34m(\u001b[0m\u001b[0msleep_time\u001b[0m\u001b[0;34m)\u001b[0m\u001b[0;34m\u001b[0m\u001b[0;34m\u001b[0m\u001b[0m\n\u001b[0m\u001b[1;32m     73\u001b[0m     \u001b[0mcore\u001b[0m\u001b[0;34m.\u001b[0m\u001b[0msend_message\u001b[0m\u001b[0;34m(\u001b[0m\u001b[0mmessage\u001b[0m\u001b[0;34m=\u001b[0m\u001b[0mmessage\u001b[0m\u001b[0;34m,\u001b[0m \u001b[0mreceiver\u001b[0m\u001b[0;34m=\u001b[0m\u001b[0mphone_no\u001b[0m\u001b[0;34m,\u001b[0m \u001b[0mwait_time\u001b[0m\u001b[0;34m=\u001b[0m\u001b[0mwait_time\u001b[0m\u001b[0;34m)\u001b[0m\u001b[0;34m\u001b[0m\u001b[0;34m\u001b[0m\u001b[0m\n\u001b[1;32m     74\u001b[0m     \u001b[0mlog\u001b[0m\u001b[0;34m.\u001b[0m\u001b[0mlog_message\u001b[0m\u001b[0;34m(\u001b[0m\u001b[0m_time\u001b[0m\u001b[0;34m=\u001b[0m\u001b[0mcurrent_time\u001b[0m\u001b[0;34m,\u001b[0m \u001b[0mreceiver\u001b[0m\u001b[0;34m=\u001b[0m\u001b[0mphone_no\u001b[0m\u001b[0;34m,\u001b[0m \u001b[0mmessage\u001b[0m\u001b[0;34m=\u001b[0m\u001b[0mmessage\u001b[0m\u001b[0;34m)\u001b[0m\u001b[0;34m\u001b[0m\u001b[0;34m\u001b[0m\u001b[0m\n",
      "\u001b[0;31mKeyboardInterrupt\u001b[0m: "
     ]
    }
   ],
   "source": [
    "for mobilenumber in MobileNumberListExl08:\n",
    "    sendwhatkvmsg(mobilenumber)"
   ]
  }
 ],
 "metadata": {
  "kernelspec": {
   "display_name": "Python 3",
   "language": "python",
   "name": "python3"
  },
  "language_info": {
   "codemirror_mode": {
    "name": "ipython",
    "version": 3
   },
   "file_extension": ".py",
   "mimetype": "text/x-python",
   "name": "python",
   "nbconvert_exporter": "python",
   "pygments_lexer": "ipython3",
   "version": "3.8.7"
  }
 },
 "nbformat": 4,
 "nbformat_minor": 4
}
