{
 "cells": [
  {
   "cell_type": "code",
   "execution_count": 25,
   "metadata": {},
   "outputs": [],
   "source": [
    "from memory_profiler import memory_usage\n",
    "from timeit import timeit"
   ]
  },
  {
   "cell_type": "code",
   "execution_count": 26,
   "metadata": {},
   "outputs": [],
   "source": [
    "def read_file(file_name):\n",
    "    with open(file_name,'r') as f:\n",
    "        content=[]\n",
    "        for line in f:\n",
    "            content.append(line)        \n",
    "    return content"
   ]
  },
  {
   "cell_type": "code",
   "execution_count": 27,
   "metadata": {},
   "outputs": [],
   "source": [
    "def gen_read_file(filename):\n",
    "    with open(filename,'r') as f:\n",
    "        for line in f:\n",
    "            yield line"
   ]
  },
  {
   "cell_type": "code",
   "execution_count": 28,
   "metadata": {},
   "outputs": [],
   "source": [
    "def use_gen_function(_gen_function):\n",
    "    for line in _gen_function:\n",
    "        a=line\n",
    "    \n",
    "    for line in _gen_function:\n",
    "        print(line)"
   ]
  },
  {
   "cell_type": "code",
   "execution_count": 29,
   "metadata": {},
   "outputs": [],
   "source": [
    "_file = gen_read_file(\"syslog.txt\")\n",
    "use_gen_function(_file)"
   ]
  },
  {
   "cell_type": "code",
   "execution_count": 30,
   "metadata": {},
   "outputs": [
    {
     "name": "stdout",
     "output_type": "stream",
     "text": [
      "Memory usage of normal function: 0.0 MB\n"
     ]
    }
   ],
   "source": [
    "mem_usage = memory_usage((read_file,('syslog.txt',)))\n",
    "print(f\"Memory usage of normal function: {max(mem_usage) - min(mem_usage)} MB\")"
   ]
  },
  {
   "cell_type": "code",
   "execution_count": 31,
   "metadata": {},
   "outputs": [
    {
     "name": "stdout",
     "output_type": "stream",
     "text": [
      "Memory usage of normal function: 0.0 MB\n"
     ]
    }
   ],
   "source": [
    "mem_usage = memory_usage((list,(gen_read_file('syslog.txt'),)))\n",
    "print(f\"Memory usage of normal function: {max(mem_usage) - min(mem_usage)} MB\")"
   ]
  },
  {
   "cell_type": "code",
   "execution_count": 32,
   "metadata": {},
   "outputs": [
    {
     "name": "stdout",
     "output_type": "stream",
     "text": [
      "Normal function time: 0.006576138999889736\n"
     ]
    }
   ],
   "source": [
    "_time=timeit('read_file(\"syslog.txt\")', setup='from __main__ import read_file',number=100)\n",
    "print(f\"Normal function time: {_time}\")"
   ]
  },
  {
   "cell_type": "code",
   "execution_count": 33,
   "metadata": {},
   "outputs": [
    {
     "name": "stdout",
     "output_type": "stream",
     "text": [
      "Generator function time: 0.008011222000050111\n"
     ]
    }
   ],
   "source": [
    "_time=timeit('list(gen_read_file(\"syslog.txt\"))', setup='from __main__ import gen_read_file',number=100)\n",
    "print(f\"Generator function time: {_time}\")"
   ]
  },
  {
   "cell_type": "code",
   "execution_count": null,
   "metadata": {},
   "outputs": [],
   "source": []
  }
 ],
 "metadata": {
  "kernelspec": {
   "display_name": "Python 3",
   "language": "python",
   "name": "python3"
  },
  "language_info": {
   "codemirror_mode": {
    "name": "ipython",
    "version": 3
   },
   "file_extension": ".py",
   "mimetype": "text/x-python",
   "name": "python",
   "nbconvert_exporter": "python",
   "pygments_lexer": "ipython3",
   "version": "3.8.7"
  }
 },
 "nbformat": 4,
 "nbformat_minor": 4
}
